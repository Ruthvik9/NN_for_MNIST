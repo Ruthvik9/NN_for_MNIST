{
 "cells": [
  {
   "cell_type": "code",
   "execution_count": 1,
   "id": "cbd949b2",
   "metadata": {},
   "outputs": [],
   "source": [
    "import torch\n",
    "import numpy as np\n",
    "from torch import nn\n",
    "import matplotlib.pyplot as plt"
   ]
  },
  {
   "cell_type": "code",
   "execution_count": 5,
   "id": "554ddeee",
   "metadata": {},
   "outputs": [],
   "source": [
    "from torchvision import datasets, transforms\n",
    "\n",
    "\n",
    "# Define a transform to normalize the data\n",
    "transform = transforms.Compose([transforms.ToTensor(),\n",
    "                                transforms.Normalize((0.5,), (0.5,))])\n",
    "# Download and load the training data\n",
    "trainset = datasets.MNIST('~/.pytorch/MNIST_data/', download=True, train=True, transform=transform)\n",
    "trainloader = torch.utils.data.DataLoader(trainset, batch_size=64, shuffle=True)\n",
    "\n",
    "# Download and load the test data\n",
    "testset = datasets.MNIST('~/.pytorch/MNIST_data/', download=True, train=False, transform=transform)\n",
    "testloader = torch.utils.data.DataLoader(testset, batch_size=64, shuffle=True)"
   ]
  },
  {
   "cell_type": "code",
   "execution_count": 7,
   "id": "29972166",
   "metadata": {},
   "outputs": [
    {
     "data": {
      "text/plain": [
       "<matplotlib.image.AxesImage at 0x126569b9f70>"
      ]
     },
     "execution_count": 7,
     "metadata": {},
     "output_type": "execute_result"
    },
    {
     "data": {
      "image/png": "[encoded data removed]",
      "text/plain": [
       "<Figure size 432x288 with 1 Axes>"
      ]
     },
     "metadata": {
      "needs_background": "light"
     },
     "output_type": "display_data"
    }
   ],
   "source": [
    "image, label = next(iter(trainloader))\n",
    "plt.imshow(image[0][0],cmap = 'binary')"
   ]
  },
  {
   "cell_type": "code",
   "execution_count": 8,
   "id": "8bad672f",
   "metadata": {},
   "outputs": [
    {
     "data": {
      "text/plain": [
       "torch.Size([64, 1, 28, 28])"
      ]
     },
     "execution_count": 8,
     "metadata": {},
     "output_type": "execute_result"
    }
   ],
   "source": [
    "image.shape"
   ]
  },
  {
   "cell_type": "code",
   "execution_count": 9,
   "id": "42f62149",
   "metadata": {},
   "outputs": [
    {
     "data": {
      "text/plain": [
       "Network(\n",
       "  (hidden_one): Linear(in_features=784, out_features=256, bias=True)\n",
       "  (hidden_two): Linear(in_features=256, out_features=128, bias=True)\n",
       "  (hidden_three): Linear(in_features=128, out_features=64, bias=True)\n",
       "  (output): Linear(in_features=64, out_features=10, bias=True)\n",
       ")"
      ]
     },
     "execution_count": 9,
     "metadata": {},
     "output_type": "execute_result"
    }
   ],
   "source": [
    "import torch.nn.functional as F\n",
    "\n",
    "class Network(nn.Module):\n",
    "    def __init__(self):\n",
    "        super().__init__()\n",
    "        \n",
    "        self.hidden_one = nn.Linear(784,256)\n",
    "        self.hidden_two = nn.Linear(256,128)\n",
    "        self.hidden_three = nn.Linear(128,64)\n",
    "        self.output = nn.Linear(64,10)\n",
    "        \n",
    "    def forward(self,x):\n",
    "        x = x.view((x.shape[0],-1))\n",
    "        x = F.relu(self.hidden_one(x))\n",
    "        x = F.relu(self.hidden_two(x))\n",
    "        x = F.relu(self.hidden_three(x))\n",
    "        x = F.log_softmax(self.output(x), dim = 1)\n",
    "        \n",
    "        return x\n",
    "    \n",
    "\n",
    "model = Network()\n",
    "\n",
    "model"
   ]
  },
  {
   "cell_type": "code",
   "execution_count": 10,
   "id": "479db659",
   "metadata": {},
   "outputs": [
    {
     "name": "stdout",
     "output_type": "stream",
     "text": [
      "Train loss 0.33979578905304275\n",
      "Test loss 0.22966057434082032\n",
      "Train accuracy:  0.8914833333333333\n",
      "Test accuracy:  0.9276\n",
      "Train loss 0.17488484529654186\n",
      "Test loss 0.15823965206742285\n",
      "Train accuracy:  0.94615\n",
      "Test accuracy:  0.9513\n",
      "Train loss 0.1352201294451952\n",
      "Test loss 0.12766546830534936\n",
      "Train accuracy:  0.9587666666666667\n",
      "Test accuracy:  0.9625\n",
      "Train loss 0.12185001334349314\n",
      "Test loss 0.11921310032219626\n",
      "Train accuracy:  0.9629666666666666\n",
      "Test accuracy:  0.9645\n",
      "Train loss 0.10667367534736792\n",
      "Test loss 0.15371821887493134\n",
      "Train accuracy:  0.9673\n",
      "Test accuracy:  0.955\n",
      "Train loss 0.10210097614998619\n",
      "Test loss 0.12338050402998925\n",
      "Train accuracy:  0.969\n",
      "Test accuracy:  0.9662\n",
      "Train loss 0.08997865242560704\n",
      "Test loss 0.13428797481060029\n",
      "Train accuracy:  0.9733333333333334\n",
      "Test accuracy:  0.9616\n",
      "Train loss 0.0874436939480404\n",
      "Test loss 0.13828982628583908\n",
      "Train accuracy:  0.9731833333333333\n",
      "Test accuracy:  0.963\n",
      "Train loss 0.0812048518182089\n",
      "Test loss 0.11155099392086268\n",
      "Train accuracy:  0.97515\n",
      "Test accuracy:  0.9708\n",
      "Train loss 0.07854472362920642\n",
      "Test loss 0.10802686159834266\n",
      "Train accuracy:  0.97615\n",
      "Test accuracy:  0.9703\n",
      "Train loss 0.07248856841288508\n",
      "Test loss 0.1265361288689077\n",
      "Train accuracy:  0.9779333333333333\n",
      "Test accuracy:  0.9705\n",
      "Train loss 0.07641232855568329\n",
      "Test loss 0.1823890001649037\n",
      "Train accuracy:  0.9779333333333333\n",
      "Test accuracy:  0.9518\n",
      "Train loss 0.06831997871780768\n",
      "Test loss 0.10511592751704156\n",
      "Train accuracy:  0.9797333333333333\n",
      "Test accuracy:  0.9736\n",
      "Train loss 0.07203044235246876\n",
      "Test loss 0.13741951567679644\n",
      "Train accuracy:  0.9789666666666667\n",
      "Test accuracy:  0.9695\n",
      "Train loss 0.06178476711157709\n",
      "Test loss 0.10861220859326422\n",
      "Train accuracy:  0.9818\n",
      "Test accuracy:  0.9729\n",
      "Train loss 0.06047039437508211\n",
      "Test loss 0.12701045365780592\n",
      "Train accuracy:  0.9821166666666666\n",
      "Test accuracy:  0.9708\n",
      "Train loss 0.05834379685483873\n",
      "Test loss 0.1309332232452929\n",
      "Train accuracy:  0.9829\n",
      "Test accuracy:  0.9682\n",
      "Train loss 0.05775662820703971\n",
      "Test loss 0.12470613570325076\n",
      "Train accuracy:  0.9831\n",
      "Test accuracy:  0.9716\n",
      "Train loss 0.053978273284210204\n",
      "Test loss 0.1838103308454156\n",
      "Train accuracy:  0.9842833333333333\n",
      "Test accuracy:  0.9581\n",
      "Train loss 0.056043637377768754\n",
      "Test loss 0.1406757487352006\n",
      "Train accuracy:  0.9840833333333333\n",
      "Test accuracy:  0.969\n",
      "Train loss 0.049635493053511406\n",
      "Test loss 0.13709471776289867\n",
      "Train accuracy:  0.9860333333333333\n",
      "Test accuracy:  0.9705\n",
      "Train loss 0.057917695925167455\n",
      "Test loss 0.13441506313942372\n",
      "Train accuracy:  0.9836166666666667\n",
      "Test accuracy:  0.9719\n",
      "Train loss 0.05366177133054783\n",
      "Test loss 0.12458317800369113\n",
      "Train accuracy:  0.9850666666666666\n",
      "Test accuracy:  0.9739\n",
      "Train loss 0.04943058346545634\n",
      "Test loss 0.12345523987254128\n",
      "Train accuracy:  0.9862833333333333\n",
      "Test accuracy:  0.9754\n",
      "Train loss 0.04484987449505522\n",
      "Test loss 0.1449829681906849\n",
      "Train accuracy:  0.98735\n",
      "Test accuracy:  0.9699\n",
      "Train loss 0.047243650717365866\n",
      "Test loss 0.11109054738469422\n",
      "Train accuracy:  0.9864833333333334\n",
      "Test accuracy:  0.9779\n",
      "Train loss 0.0452178557442734\n",
      "Test loss 0.15256118286550044\n",
      "Train accuracy:  0.98725\n",
      "Test accuracy:  0.9701\n",
      "Train loss 0.05105955326383312\n",
      "Test loss 0.1509462534075603\n",
      "Train accuracy:  0.9863333333333333\n",
      "Test accuracy:  0.9691\n",
      "Train loss 0.0424444611214761\n",
      "Test loss 0.14358666942922865\n",
      "Train accuracy:  0.9877666666666667\n",
      "Test accuracy:  0.9695\n",
      "Train loss 0.04730110226020527\n",
      "Test loss 0.1298837760562077\n",
      "Train accuracy:  0.9874833333333334\n",
      "Test accuracy:  0.9749\n"
     ]
    }
   ],
   "source": [
    "from torch import optim\n",
    "\n",
    "epochs = 30\n",
    "optimizer = optim.Adam(model.parameters(),lr = 0.003)\n",
    "criterion = nn.NLLLoss(reduction = 'sum')\n",
    "training_loss, testing_loss = [],[]\n",
    "\n",
    "for i in range(epochs):\n",
    "    total_train_loss = 0\n",
    "    train_correct = 0\n",
    "    for images,labels in trainloader:\n",
    "        \n",
    "        outputs = model(images)\n",
    "        ps = torch.exp(outputs)\n",
    "        \n",
    "        optimizer.zero_grad()\n",
    "        \n",
    "        loss = criterion(outputs,labels)\n",
    "        loss.backward()\n",
    "        \n",
    "        optimizer.step()\n",
    "        total_train_loss += loss.item()\n",
    "        \n",
    "        top_p, top_class = ps.topk(1, dim = 1)\n",
    "        match = top_class == labels.view(*top_class.shape)\n",
    "\n",
    "        train_correct += match.sum().item()\n",
    "                \n",
    "    else:     \n",
    "        \n",
    "        # Figure out the testing loss and accuracy\n",
    "        \n",
    "        total_test_loss = 0\n",
    "        test_correct = 0\n",
    "        \n",
    "        with torch.no_grad():\n",
    "            \n",
    "            for images, labels in testloader:\n",
    "                outputs = model(images)\n",
    "                ps = torch.exp(outputs)\n",
    "                \n",
    "                loss = criterion(outputs,labels)\n",
    "                total_test_loss += loss.item()\n",
    "                \n",
    "                top_p, top_class = ps.topk(1, dim = 1)\n",
    "                equals = top_class == labels.view(*top_class.shape)\n",
    "\n",
    "                test_correct += equals.sum().item()\n",
    "                \n",
    "    tr_loss = total_train_loss/len(trainloader.dataset)\n",
    "    ts_loss = total_test_loss/len(testloader.dataset)\n",
    "            \n",
    "    training_loss.append(tr_loss)\n",
    "    testing_loss.append(ts_loss)\n",
    "    \n",
    "    print('Train loss', tr_loss)\n",
    "    print('Test loss',ts_loss)\n",
    "    \n",
    "    print('Train accuracy: ',train_correct/len(trainloader.dataset))\n",
    "    print('Test accuracy: ',test_correct/len(testloader.dataset))\n",
    "    "
   ]
  },
  {
   "cell_type": "code",
   "execution_count": 13,
   "id": "973f26fa",
   "metadata": {},
   "outputs": [],
   "source": [
    "%matplotlib inline\n",
    "%config InlineBackend.figure_format = 'retina'\n"
   ]
  },
  {
   "cell_type": "code",
   "execution_count": 14,
   "id": "4058ec3b",
   "metadata": {},
   "outputs": [
    {
     "data": {
      "text/plain": [
       "<matplotlib.legend.Legend at 0x12657411df0>"
      ]
     },
     "execution_count": 14,
     "metadata": {},
     "output_type": "execute_result"
    },
    {
     "data": {
      "image/png": "[encoded data removed]",
      "text/plain": [
       "<Figure size 432x288 with 1 Axes>"
      ]
     },
     "metadata": {
      "image/png": {
       "height": 248,
       "width": 380
      },
      "needs_background": "light"
     },
     "output_type": "display_data"
    }
   ],
   "source": [
    "plt.plot(training_loss, label = 'training_loss')\n",
    "plt.plot(testing_loss, label = 'testing_loss')\n",
    "plt.legend(frameon = False)"
   ]
  },
  {
   "cell_type": "code",
   "execution_count": 15,
   "id": "498a0a53",
   "metadata": {},
   "outputs": [
    {
     "name": "stdout",
     "output_type": "stream",
     "text": [
      "Train loss 0.4626633457660675\n",
      "Test loss 0.19733176812529563\n",
      "Train accuracy:  0.8568\n",
      "Test accuracy:  0.9415\n",
      "Train loss 0.29356237255334855\n",
      "Test loss 0.199530166554451\n",
      "Train accuracy:  0.91455\n",
      "Test accuracy:  0.9392\n",
      "Train loss 0.2525555909136931\n",
      "Test loss 0.16146734501123428\n",
      "Train accuracy:  0.9277\n",
      "Test accuracy:  0.9547\n",
      "Train loss 0.23632571854194007\n",
      "Test loss 0.14428504988253116\n",
      "Train accuracy:  0.9321\n",
      "Test accuracy:  0.9592\n",
      "Train loss 0.22831145072976747\n",
      "Test loss 0.15113206160664558\n",
      "Train accuracy:  0.93565\n",
      "Test accuracy:  0.9539\n",
      "Train loss 0.2177398850361506\n",
      "Test loss 0.12409132447838783\n",
      "Train accuracy:  0.9391666666666667\n",
      "Test accuracy:  0.965\n",
      "Train loss 0.20529215066432954\n",
      "Test loss 0.16422327237278223\n",
      "Train accuracy:  0.9416666666666667\n",
      "Test accuracy:  0.9528\n",
      "Train loss 0.21178203537662824\n",
      "Test loss 0.13933656243085862\n",
      "Train accuracy:  0.9414\n",
      "Test accuracy:  0.9612\n",
      "Train loss 0.20260339420338472\n",
      "Test loss 0.12094347011446953\n",
      "Train accuracy:  0.9445\n",
      "Test accuracy:  0.9653\n",
      "Train loss 0.20362952115337055\n",
      "Test loss 0.11655892760157585\n",
      "Train accuracy:  0.9431833333333334\n",
      "Test accuracy:  0.9658\n",
      "Train loss 0.19087868273158867\n",
      "Test loss 0.1332751233458519\n",
      "Train accuracy:  0.9464833333333333\n",
      "Test accuracy:  0.9627\n",
      "Train loss 0.18390160752733548\n",
      "Test loss 0.12447928419988602\n",
      "Train accuracy:  0.9485666666666667\n",
      "Test accuracy:  0.9671\n",
      "Train loss 0.19085897366603216\n",
      "Test loss 0.11933741388320923\n",
      "Train accuracy:  0.9460833333333334\n",
      "Test accuracy:  0.966\n",
      "Train loss 0.18625030666689077\n",
      "Test loss 0.12653153577148915\n",
      "Train accuracy:  0.9490166666666666\n",
      "Test accuracy:  0.9666\n",
      "Train loss 0.18646310221453508\n",
      "Test loss 0.12414273405075073\n",
      "Train accuracy:  0.9479666666666666\n",
      "Test accuracy:  0.966\n",
      "Train loss 0.18533671762645246\n",
      "Test loss 0.13151637213230133\n",
      "Train accuracy:  0.9482166666666667\n",
      "Test accuracy:  0.9657\n",
      "Train loss 0.1735370006253322\n",
      "Test loss 0.14245866867899895\n",
      "Train accuracy:  0.9514833333333333\n",
      "Test accuracy:  0.961\n",
      "Train loss 0.1787898836021622\n",
      "Test loss 0.1092013105839491\n",
      "Train accuracy:  0.9497666666666666\n",
      "Test accuracy:  0.9707\n",
      "Train loss 0.17198640748510757\n",
      "Test loss 0.12650464845430107\n",
      "Train accuracy:  0.9521333333333334\n",
      "Test accuracy:  0.9664\n",
      "Train loss 0.16251481917413574\n",
      "Test loss 0.12772521229982375\n",
      "Train accuracy:  0.9548833333333333\n",
      "Test accuracy:  0.9641\n",
      "Train loss 0.1710319329197208\n",
      "Test loss 0.13125914297811686\n",
      "Train accuracy:  0.9545833333333333\n",
      "Test accuracy:  0.966\n",
      "Train loss 0.16472387503286204\n",
      "Test loss 0.12792605187054723\n",
      "Train accuracy:  0.95425\n",
      "Test accuracy:  0.9682\n",
      "Train loss 0.17089111556559802\n",
      "Test loss 0.1180357822984457\n",
      "Train accuracy:  0.9542166666666667\n",
      "Test accuracy:  0.9685\n",
      "Train loss 0.1699089278737704\n",
      "Test loss 0.12059354169219733\n",
      "Train accuracy:  0.9543\n",
      "Test accuracy:  0.9682\n",
      "Train loss 0.16101872814993062\n",
      "Test loss 0.12124909648001193\n",
      "Train accuracy:  0.9554666666666667\n",
      "Test accuracy:  0.97\n",
      "Train loss 0.1634324440293014\n",
      "Test loss 0.1333465791836381\n",
      "Train accuracy:  0.9551666666666667\n",
      "Test accuracy:  0.9652\n",
      "Train loss 0.15951752739846706\n",
      "Test loss 0.13824764581471682\n",
      "Train accuracy:  0.9571\n",
      "Test accuracy:  0.9642\n",
      "Train loss 0.15597589106410742\n",
      "Test loss 0.11719150279760361\n",
      "Train accuracy:  0.9577333333333333\n",
      "Test accuracy:  0.9698\n",
      "Train loss 0.15419285663266977\n",
      "Test loss 0.13682895232960582\n",
      "Train accuracy:  0.9582333333333334\n",
      "Test accuracy:  0.9679\n",
      "Train loss 0.15951438548962274\n",
      "Test loss 0.10873235712125898\n",
      "Train accuracy:  0.9576\n",
      "Test accuracy:  0.9698\n"
     ]
    }
   ],
   "source": [
    "class Network(nn.Module):\n",
    "    def __init__(self):\n",
    "        super().__init__()\n",
    "        \n",
    "        self.hidden_one = nn.Linear(784,256)\n",
    "        self.hidden_two = nn.Linear(256,128)\n",
    "        self.hidden_three = nn.Linear(128,64)\n",
    "        self.output = nn.Linear(64,10)\n",
    "        \n",
    "        self.dropout = nn.Dropout(0.2)\n",
    "        \n",
    "    def forward(self,x):\n",
    "        x = x.view((x.shape[0],-1))\n",
    "        x = self.dropout(F.relu(self.hidden_one(x)))\n",
    "        x = self.dropout(F.relu(self.hidden_two(x)))\n",
    "        x = self.dropout(F.relu(self.hidden_three(x)))\n",
    "        x = F.log_softmax(self.output(x), dim = 1)\n",
    "        \n",
    "        return x\n",
    "\n",
    "model = Network()\n",
    "\n",
    "epochs = 30\n",
    "optimizer = optim.Adam(model.parameters(),lr = 0.003)\n",
    "criterion = nn.NLLLoss(reduction = 'sum')\n",
    "training_loss, testing_loss = [],[]\n",
    "\n",
    "for i in range(epochs):\n",
    "    total_train_loss = 0\n",
    "    train_correct = 0\n",
    "    for images,labels in trainloader:\n",
    "        \n",
    "        outputs = model(images)\n",
    "        ps = torch.exp(outputs)\n",
    "        \n",
    "        optimizer.zero_grad()\n",
    "        \n",
    "        loss = criterion(outputs,labels)\n",
    "        loss.backward()\n",
    "        \n",
    "        optimizer.step()\n",
    "        total_train_loss += loss.item()\n",
    "        \n",
    "        top_p, top_class = ps.topk(1, dim = 1)\n",
    "        match = top_class == labels.view(*top_class.shape)\n",
    "\n",
    "        train_correct += match.sum().item()\n",
    "                \n",
    "    else:     \n",
    "        \n",
    "        # Figure out the testing loss and accuracy\n",
    "        \n",
    "        total_test_loss = 0\n",
    "        test_correct = 0\n",
    "        \n",
    "        \n",
    "        \n",
    "        with torch.no_grad():\n",
    "            model.eval()\n",
    "            \n",
    "            for images, labels in testloader:\n",
    "                outputs = model(images)\n",
    "                ps = torch.exp(outputs)\n",
    "                \n",
    "                loss = criterion(outputs,labels)\n",
    "                total_test_loss += loss.item()\n",
    "                \n",
    "                top_p, top_class = ps.topk(1, dim = 1)\n",
    "                equals = top_class == labels.view(*top_class.shape)\n",
    "\n",
    "                test_correct += equals.sum().item()\n",
    "    \n",
    "    # Set the model back into train mode by diabling dropouts\n",
    "    model.train()\n",
    "                \n",
    "    tr_loss = total_train_loss/len(trainloader.dataset)\n",
    "    ts_loss = total_test_loss/len(testloader.dataset)\n",
    "            \n",
    "    training_loss.append(tr_loss)\n",
    "    testing_loss.append(ts_loss)\n",
    "    \n",
    "    print('Train loss', tr_loss)\n",
    "    print('Test loss',ts_loss)\n",
    "    \n",
    "    print('Train accuracy: ',train_correct/len(trainloader.dataset))\n",
    "    print('Test accuracy: ',test_correct/len(testloader.dataset))\n",
    "        "
   ]
  },
  {
   "cell_type": "code",
   "execution_count": 16,
   "id": "9cac3a32",
   "metadata": {},
   "outputs": [
    {
     "data": {
      "text/plain": [
       "<matplotlib.legend.Legend at 0x12659879fa0>"
      ]
     },
     "execution_count": 16,
     "metadata": {},
     "output_type": "execute_result"
    },
    {
     "data": {
      "image/png": "[encoded data removed]",
      "text/plain": [
       "<Figure size 432x288 with 1 Axes>"
      ]
     },
     "metadata": {
      "image/png": {
       "height": 248,
       "width": 380
      },
      "needs_background": "light"
     },
     "output_type": "display_data"
    }
   ],
   "source": [
    "plt.plot(training_loss, label = 'training_loss')\n",
    "plt.plot(testing_loss, label = 'testing_loss')\n",
    "plt.legend(frameon = False)"
   ]
  },
  {
   "cell_type": "code",
   "execution_count": null,
   "id": "679b98f0",
   "metadata": {},
   "outputs": [],
   "source": []
  },
  {
   "cell_type": "code",
   "execution_count": null,
   "id": "7e1f3654",
   "metadata": {},
   "outputs": [],
   "source": []
  },
  {
   "cell_type": "code",
   "execution_count": null,
   "id": "4bcf5667",
   "metadata": {},
   "outputs": [],
   "source": []
  },
  {
   "cell_type": "code",
   "execution_count": null,
   "id": "615fe2d2",
   "metadata": {},
   "outputs": [],
   "source": []
  },
  {
   "cell_type": "code",
   "execution_count": null,
   "id": "7c1c1885",
   "metadata": {},
   "outputs": [],
   "source": []
  }
 ],
 "metadata": {
  "kernelspec": {
   "display_name": "Python 3",
   "language": "python",
   "name": "python3"
  },
  "language_info": {
   "codemirror_mode": {
    "name": "ipython",
    "version": 3
   },
   "file_extension": ".py",
   "mimetype": "text/x-python",
   "name": "python",
   "nbconvert_exporter": "python",
   "pygments_lexer": "ipython3",
   "version": "3.8.8"
  }
 },
 "nbformat": 4,
 "nbformat_minor": 5
}
