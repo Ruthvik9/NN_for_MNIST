{
 "cells": [
  {
   "cell_type": "code",
   "execution_count": 1,
   "id": "bc01e951",
   "metadata": {},
   "outputs": [],
   "source": [
    "import torch\n",
    "import numpy as np\n",
    "from torch import nn\n",
    "import matplotlib.pyplot as plt"
   ]
  },
  {
   "cell_type": "code",
   "execution_count": 2,
   "id": "c75d7c3c",
   "metadata": {},
   "outputs": [],
   "source": [
    "from torchvision import datasets, transforms\n",
    "\n",
    "\n",
    "# Define a transform to normalize the data\n",
    "transform = transforms.Compose([transforms.ToTensor(),\n",
    "                                transforms.Normalize((0.5,), (0.5,))])\n",
    "# Download and load the training data\n",
    "trainset = datasets.FashionMNIST('~/.pytorch/F_MNIST_data/', download=True, train=True, transform=transform)\n",
    "trainloader = torch.utils.data.DataLoader(trainset, batch_size=64, shuffle=True)\n",
    "\n",
    "# Download and load the test data\n",
    "testset = datasets.FashionMNIST('~/.pytorch/F_MNIST_data/', download=True, train=False, transform=transform)\n",
    "testloader = torch.utils.data.DataLoader(testset, batch_size=64, shuffle=True)"
   ]
  },
  {
   "cell_type": "code",
   "execution_count": 3,
   "id": "23ea2866",
   "metadata": {},
   "outputs": [
    {
     "data": {
      "text/plain": [
       "<matplotlib.image.AxesImage at 0x1cefa72daf0>"
      ]
     },
     "execution_count": 3,
     "metadata": {},
     "output_type": "execute_result"
    },
    {
     "data": {
      "image/png": "[encoded data removed]",
      "text/plain": [
       "<Figure size 432x288 with 1 Axes>"
      ]
     },
     "metadata": {
      "needs_background": "light"
     },
     "output_type": "display_data"
    }
   ],
   "source": [
    "image, label = next(iter(trainloader))\n",
    "plt.imshow(image[0][0],cmap = 'binary')"
   ]
  },
  {
   "cell_type": "code",
   "execution_count": 4,
   "id": "f0b31af1",
   "metadata": {},
   "outputs": [
    {
     "data": {
      "text/plain": [
       "torch.Size([64, 1, 28, 28])"
      ]
     },
     "execution_count": 4,
     "metadata": {},
     "output_type": "execute_result"
    }
   ],
   "source": [
    "image.shape"
   ]
  },
  {
   "cell_type": "code",
   "execution_count": 5,
   "id": "10eb66c4",
   "metadata": {},
   "outputs": [
    {
     "data": {
      "text/plain": [
       "938"
      ]
     },
     "execution_count": 5,
     "metadata": {},
     "output_type": "execute_result"
    }
   ],
   "source": [
    "len(trainloader)"
   ]
  },
  {
   "cell_type": "code",
   "execution_count": 30,
   "id": "5eef64aa",
   "metadata": {},
   "outputs": [],
   "source": [
    "# implementing a nn model"
   ]
  },
  {
   "cell_type": "code",
   "execution_count": 6,
   "id": "8af0575a",
   "metadata": {},
   "outputs": [],
   "source": [
    "import torch.nn.functional as F"
   ]
  },
  {
   "cell_type": "code",
   "execution_count": 7,
   "id": "3b97903a",
   "metadata": {},
   "outputs": [],
   "source": [
    "class Network(nn.Module):\n",
    "    def __init__(self):\n",
    "        super().__init__()\n",
    "        \n",
    "        self.hidden_one = nn.Linear(784,256)\n",
    "        self.hidden_two = nn.Linear(256,128)\n",
    "        self.hidden_three = nn.Linear(128,64)\n",
    "        self.output = nn.Linear(64,10)\n",
    "        \n",
    "    def forward(self,x):\n",
    "        x = x.view((x.shape[0],-1))\n",
    "        x = F.relu(self.hidden_one(x))\n",
    "        x = F.relu(self.hidden_two(x))\n",
    "        x = F.relu(self.hidden_three(x))\n",
    "        x = F.log_softmax(self.output(x), dim = 1)\n",
    "        \n",
    "        return x\n",
    "    "
   ]
  },
  {
   "cell_type": "code",
   "execution_count": 8,
   "id": "1fba68f4",
   "metadata": {},
   "outputs": [],
   "source": [
    "model = Network()"
   ]
  },
  {
   "cell_type": "code",
   "execution_count": 9,
   "id": "e6f1830d",
   "metadata": {},
   "outputs": [
    {
     "data": {
      "text/plain": [
       "Network(\n",
       "  (hidden_one): Linear(in_features=784, out_features=256, bias=True)\n",
       "  (hidden_two): Linear(in_features=256, out_features=128, bias=True)\n",
       "  (hidden_three): Linear(in_features=128, out_features=64, bias=True)\n",
       "  (output): Linear(in_features=64, out_features=10, bias=True)\n",
       ")"
      ]
     },
     "execution_count": 9,
     "metadata": {},
     "output_type": "execute_result"
    }
   ],
   "source": [
    "model"
   ]
  },
  {
   "cell_type": "code",
   "execution_count": 10,
   "id": "7bd72efd",
   "metadata": {},
   "outputs": [],
   "source": [
    "from torch import optim"
   ]
  },
  {
   "cell_type": "code",
   "execution_count": 22,
   "id": "85ccd7be",
   "metadata": {},
   "outputs": [
    {
     "name": "stdout",
     "output_type": "stream",
     "text": [
      "Train loss 0.19269549735387168\n",
      "Test loss 0.45473487004041674\n",
      "Train accuracy:  0.9317\n",
      "Test accuracy:  0.879\n",
      "Train loss 0.17780739059646924\n",
      "Test loss 0.46306358728408814\n",
      "Train accuracy:  0.9355166666666667\n",
      "Test accuracy:  0.8703\n",
      "Train loss 0.17470461208025614\n",
      "Test loss 0.4560148114681244\n",
      "Train accuracy:  0.93615\n",
      "Test accuracy:  0.8788\n",
      "Train loss 0.17509258954326312\n",
      "Test loss 0.464596743452549\n",
      "Train accuracy:  0.93575\n",
      "Test accuracy:  0.8812\n",
      "Train loss 0.1836672403395176\n",
      "Test loss 0.45999529485702517\n",
      "Train accuracy:  0.9356666666666666\n",
      "Test accuracy:  0.8768\n",
      "Train loss 0.17404704525967438\n",
      "Test loss 0.44007704305648804\n",
      "Train accuracy:  0.9379\n",
      "Test accuracy:  0.8828\n",
      "Train loss 0.1641283760726452\n",
      "Test loss 0.40855407593250276\n",
      "Train accuracy:  0.9399833333333333\n",
      "Test accuracy:  0.8847\n",
      "Train loss 0.1697869221329689\n",
      "Test loss 0.4438884053468704\n",
      "Train accuracy:  0.938\n",
      "Test accuracy:  0.8767\n",
      "Train loss 0.1713902193903923\n",
      "Test loss 0.444561328125\n",
      "Train accuracy:  0.9373833333333333\n",
      "Test accuracy:  0.8843\n",
      "Train loss 0.15741215348442394\n",
      "Test loss 0.492225057220459\n",
      "Train accuracy:  0.94325\n",
      "Test accuracy:  0.8727\n",
      "Train loss 0.1677321060637633\n",
      "Test loss 0.4438619059085846\n",
      "Train accuracy:  0.9398333333333333\n",
      "Test accuracy:  0.8807\n",
      "Train loss 0.15817553907434145\n",
      "Test loss 0.5069317230701447\n",
      "Train accuracy:  0.94245\n",
      "Test accuracy:  0.8767\n",
      "Train loss 0.16300418991446494\n",
      "Test loss 0.5005880024909973\n",
      "Train accuracy:  0.9428333333333333\n",
      "Test accuracy:  0.8748\n",
      "Train loss 0.1606038283209006\n",
      "Test loss 0.490365572822094\n",
      "Train accuracy:  0.9429166666666666\n",
      "Test accuracy:  0.8825\n",
      "Train loss 0.15471740326682726\n",
      "Test loss 0.48388978552818296\n",
      "Train accuracy:  0.9454166666666667\n",
      "Test accuracy:  0.8801\n",
      "Train loss 0.16164464624524116\n",
      "Test loss 0.4626537001132965\n",
      "Train accuracy:  0.9432\n",
      "Test accuracy:  0.8827\n",
      "Train loss 0.15694622305432956\n",
      "Test loss 0.5057175448894501\n",
      "Train accuracy:  0.9431166666666667\n",
      "Test accuracy:  0.8853\n",
      "Train loss 0.1438586294978857\n",
      "Test loss 0.4599188971042633\n",
      "Train accuracy:  0.9482166666666667\n",
      "Test accuracy:  0.8818\n",
      "Train loss 0.16137736464341482\n",
      "Test loss 0.49786067897081376\n",
      "Train accuracy:  0.9441333333333334\n",
      "Test accuracy:  0.8804\n",
      "Train loss 0.1459064130415519\n",
      "Test loss 0.5700409424304962\n",
      "Train accuracy:  0.9475333333333333\n",
      "Test accuracy:  0.8755\n",
      "Train loss 0.1411194805542628\n",
      "Test loss 0.5399542670726776\n",
      "Train accuracy:  0.9487833333333333\n",
      "Test accuracy:  0.8779\n",
      "Train loss 0.1416882519741853\n",
      "Test loss 0.49971104559898377\n",
      "Train accuracy:  0.9487666666666666\n",
      "Test accuracy:  0.879\n",
      "Train loss 0.13730181505580744\n",
      "Test loss 0.5234005438804626\n",
      "Train accuracy:  0.95045\n",
      "Test accuracy:  0.8784\n",
      "Train loss 0.14141748086760442\n",
      "Test loss 0.5403708256721497\n",
      "Train accuracy:  0.9498166666666666\n",
      "Test accuracy:  0.8802\n",
      "Train loss 0.15742513808707395\n",
      "Test loss 0.5401542903900146\n",
      "Train accuracy:  0.9453333333333334\n",
      "Test accuracy:  0.8819\n",
      "Train loss 0.1527353517641624\n",
      "Test loss 0.5173512819051742\n",
      "Train accuracy:  0.94635\n",
      "Test accuracy:  0.8809\n",
      "Train loss 0.14399253308176993\n",
      "Test loss 0.5115986302852631\n",
      "Train accuracy:  0.94895\n",
      "Test accuracy:  0.8853\n",
      "Train loss 0.12833798987666767\n",
      "Test loss 0.5264671407163143\n",
      "Train accuracy:  0.9530833333333333\n",
      "Test accuracy:  0.8874\n",
      "Train loss 0.13525206089317798\n",
      "Test loss 0.5579579763889313\n",
      "Train accuracy:  0.9518333333333333\n",
      "Test accuracy:  0.8807\n",
      "Train loss 0.12862259595294792\n",
      "Test loss 0.5888670669078827\n",
      "Train accuracy:  0.9531666666666667\n",
      "Test accuracy:  0.8775\n"
     ]
    }
   ],
   "source": [
    "epochs = 30\n",
    "optimizer = optim.Adam(model.parameters(),lr = 0.003)\n",
    "criterion = nn.NLLLoss(reduction = 'sum')\n",
    "training_loss, testing_loss = [],[]\n",
    "\n",
    "for i in range(epochs):\n",
    "    total_train_loss = 0\n",
    "    train_correct = 0\n",
    "    for images,labels in trainloader:\n",
    "        \n",
    "        outputs = model(images)\n",
    "        ps = torch.exp(outputs)\n",
    "        \n",
    "        optimizer.zero_grad()\n",
    "        \n",
    "        loss = criterion(outputs,labels)\n",
    "        loss.backward()\n",
    "        \n",
    "        optimizer.step()\n",
    "        total_train_loss += loss.item()\n",
    "        \n",
    "        top_p, top_class = ps.topk(1, dim = 1)\n",
    "        match = top_class == labels.view(*top_class.shape)\n",
    "\n",
    "        train_correct += match.sum().item()\n",
    "                \n",
    "    else:     \n",
    "        \n",
    "        # Figure out the testing loss and accuracy\n",
    "        \n",
    "        total_test_loss = 0\n",
    "        test_correct = 0\n",
    "        \n",
    "        with torch.no_grad():\n",
    "            \n",
    "            for images, labels in testloader:\n",
    "                outputs = model(images)\n",
    "                ps = torch.exp(outputs)\n",
    "                \n",
    "                loss = criterion(outputs,labels)\n",
    "                total_test_loss += loss.item()\n",
    "                \n",
    "                top_p, top_class = ps.topk(1, dim = 1)\n",
    "                equals = top_class == labels.view(*top_class.shape)\n",
    "\n",
    "                test_correct += equals.sum().item()\n",
    "                \n",
    "    tr_loss = total_train_loss/len(trainloader.dataset)\n",
    "    ts_loss = total_test_loss/len(testloader.dataset)\n",
    "            \n",
    "    training_loss.append(tr_loss)\n",
    "    testing_loss.append(ts_loss)\n",
    "    \n",
    "    print('Train loss', tr_loss)\n",
    "    print('Test loss',ts_loss)\n",
    "    \n",
    "    print('Train accuracy: ',train_correct/len(trainloader.dataset))\n",
    "    print('Test accuracy: ',test_correct/len(testloader.dataset))\n",
    "        \n",
    "    \n",
    "        \n",
    "        \n",
    "        \n",
    "        \n",
    "        \n",
    "        \n",
    "        \n",
    "        "
   ]
  },
  {
   "cell_type": "code",
   "execution_count": 17,
   "id": "f5bac5bd",
   "metadata": {},
   "outputs": [],
   "source": [
    "%matplotlib inline\n",
    "%config InlineBackend.figure_format = 'retina'\n"
   ]
  },
  {
   "cell_type": "markdown",
   "id": "181b282d",
   "metadata": {},
   "source": [
    "Plot training and testing losses"
   ]
  },
  {
   "cell_type": "code",
   "execution_count": 25,
   "id": "9e185dcb",
   "metadata": {},
   "outputs": [
    {
     "data": {
      "text/plain": [
       "<matplotlib.legend.Legend at 0x1cefd503e50>"
      ]
     },
     "execution_count": 25,
     "metadata": {},
     "output_type": "execute_result"
    },
    {
     "data": {
      "image/png": "[encoded data removed]",
      "text/plain": [
       "<Figure size 432x288 with 1 Axes>"
      ]
     },
     "metadata": {
      "image/png": {
       "height": 248,
       "width": 373
      },
      "needs_background": "light"
     },
     "output_type": "display_data"
    }
   ],
   "source": [
    "plt.plot(training_loss, label = 'training_loss')\n",
    "plt.plot(testing_loss, label = 'testing_loss')\n",
    "plt.legend(frameon = False)"
   ]
  },
  {
   "cell_type": "code",
   "execution_count": null,
   "id": "fe5e0d83",
   "metadata": {},
   "outputs": [],
   "source": [
    "# The training loss keeps decreasing while the testing loss keeps increasing\n",
    "# This is a clear sign of overfitting."
   ]
  },
  {
   "cell_type": "code",
   "execution_count": null,
   "id": "9f399816",
   "metadata": {},
   "outputs": [],
   "source": [
    "## Clearly, by looking at the training and testing losses, \n",
    "## we can say that the model is overfitting"
   ]
  },
  {
   "cell_type": "markdown",
   "id": "f507d54d",
   "metadata": {},
   "source": [
    "Implementation with dropout so that the model doesn't overfit"
   ]
  },
  {
   "cell_type": "code",
   "execution_count": 23,
   "id": "791989ca",
   "metadata": {},
   "outputs": [],
   "source": [
    "class Network(nn.Module):\n",
    "    def __init__(self):\n",
    "        super().__init__()\n",
    "        \n",
    "        self.hidden_one = nn.Linear(784,256)\n",
    "        self.hidden_two = nn.Linear(256,128)\n",
    "        self.hidden_three = nn.Linear(128,64)\n",
    "        self.output = nn.Linear(64,10)\n",
    "        \n",
    "        self.dropout = nn.Dropout(0.2)\n",
    "        \n",
    "    def forward(self,x):\n",
    "        x = x.view((x.shape[0],-1))\n",
    "        x = self.dropout(F.relu(self.hidden_one(x)))\n",
    "        x = self.dropout(F.relu(self.hidden_two(x)))\n",
    "        x = self.dropout(F.relu(self.hidden_three(x)))\n",
    "        x = F.log_softmax(self.output(x), dim = 1)\n",
    "        \n",
    "        return x"
   ]
  },
  {
   "cell_type": "code",
   "execution_count": 29,
   "id": "5732ceab",
   "metadata": {},
   "outputs": [],
   "source": [
    "model = Network()"
   ]
  },
  {
   "cell_type": "code",
   "execution_count": 32,
   "id": "bc02c994",
   "metadata": {},
   "outputs": [
    {
     "name": "stdout",
     "output_type": "stream",
     "text": [
      "Train loss 0.546887053600947\n",
      "Test loss 0.5030951885223389\n",
      "Train accuracy:  0.8074166666666667\n",
      "Test accuracy:  0.8185\n",
      "Train loss 0.4831758394241333\n",
      "Test loss 0.4343903252124786\n",
      "Train accuracy:  0.8317666666666667\n",
      "Test accuracy:  0.8413\n",
      "Train loss 0.4504105248451233\n",
      "Test loss 0.4104715757131577\n",
      "Train accuracy:  0.8416\n",
      "Test accuracy:  0.8498\n",
      "Train loss 0.4324172128756841\n",
      "Test loss 0.4234328621983528\n",
      "Train accuracy:  0.8468833333333333\n",
      "Test accuracy:  0.8469\n",
      "Train loss 0.4181408623536428\n",
      "Test loss 0.40617253885269167\n",
      "Train accuracy:  0.8511333333333333\n",
      "Test accuracy:  0.8511\n",
      "Train loss 0.4143720635732015\n",
      "Test loss 0.39900609798431397\n",
      "Train accuracy:  0.8549166666666667\n",
      "Test accuracy:  0.8576\n",
      "Train loss 0.412522987985611\n",
      "Test loss 0.39815336241722105\n",
      "Train accuracy:  0.8546\n",
      "Test accuracy:  0.856\n",
      "Train loss 0.39714246925512947\n",
      "Test loss 0.37890605001449584\n",
      "Train accuracy:  0.8622333333333333\n",
      "Test accuracy:  0.8645\n",
      "Train loss 0.39817452334562936\n",
      "Test loss 0.3806247751235962\n",
      "Train accuracy:  0.8609833333333333\n",
      "Test accuracy:  0.8583\n",
      "Train loss 0.39141281598409017\n",
      "Test loss 0.4086097777366638\n",
      "Train accuracy:  0.8630333333333333\n",
      "Test accuracy:  0.8562\n",
      "Train loss 0.39234978291193645\n",
      "Test loss 0.374761763381958\n",
      "Train accuracy:  0.86415\n",
      "Test accuracy:  0.8669\n",
      "Train loss 0.3822429969072342\n",
      "Test loss 0.41155850257873533\n",
      "Train accuracy:  0.8663333333333333\n",
      "Test accuracy:  0.8597\n",
      "Train loss 0.3778708160638809\n",
      "Test loss 0.4073554440021515\n",
      "Train accuracy:  0.86685\n",
      "Test accuracy:  0.8554\n",
      "Train loss 0.3791429786761602\n",
      "Test loss 0.3870743428468704\n",
      "Train accuracy:  0.8662833333333333\n",
      "Test accuracy:  0.8651\n",
      "Train loss 0.37005877296129863\n",
      "Test loss 0.37364340040683747\n",
      "Train accuracy:  0.8701833333333333\n",
      "Test accuracy:  0.8693\n",
      "Train loss 0.36542895722389224\n",
      "Test loss 0.3874541751980782\n",
      "Train accuracy:  0.8717666666666667\n",
      "Test accuracy:  0.8676\n",
      "Train loss 0.3754095650434494\n",
      "Test loss 0.3847741234302521\n",
      "Train accuracy:  0.8690833333333333\n",
      "Test accuracy:  0.8697\n",
      "Train loss 0.3643525992711385\n",
      "Test loss 0.37665662779808046\n",
      "Train accuracy:  0.8727833333333334\n",
      "Test accuracy:  0.8696\n",
      "Train loss 0.3642694933652878\n",
      "Test loss 0.4002903058052063\n",
      "Train accuracy:  0.8711333333333333\n",
      "Test accuracy:  0.8563\n",
      "Train loss 0.3634834830681483\n",
      "Test loss 0.39573360190391543\n",
      "Train accuracy:  0.8727\n",
      "Test accuracy:  0.8594\n",
      "Train loss 0.36055566629568736\n",
      "Test loss 0.3744997449398041\n",
      "Train accuracy:  0.87385\n",
      "Test accuracy:  0.8725\n",
      "Train loss 0.3602131378173828\n",
      "Test loss 0.3745188031435013\n",
      "Train accuracy:  0.87355\n",
      "Test accuracy:  0.8682\n",
      "Train loss 0.35445396451950073\n",
      "Test loss 0.3704437540054321\n",
      "Train accuracy:  0.8756166666666667\n",
      "Test accuracy:  0.8675\n",
      "Train loss 0.3552714082400004\n",
      "Test loss 0.3771607048034668\n",
      "Train accuracy:  0.8762666666666666\n",
      "Test accuracy:  0.869\n",
      "Train loss 0.34715186227957406\n",
      "Test loss 0.3806774828910828\n",
      "Train accuracy:  0.87905\n",
      "Test accuracy:  0.8691\n",
      "Train loss 0.34575043859481813\n",
      "Test loss 0.3870557089805603\n",
      "Train accuracy:  0.8782\n",
      "Test accuracy:  0.8716\n",
      "Train loss 0.34763781281312306\n",
      "Test loss 0.39508079347610475\n",
      "Train accuracy:  0.8784\n",
      "Test accuracy:  0.866\n",
      "Train loss 0.3448279668569565\n",
      "Test loss 0.3867540457725525\n",
      "Train accuracy:  0.8797833333333334\n",
      "Test accuracy:  0.8696\n",
      "Train loss 0.34281199799378714\n",
      "Test loss 0.37613552808761597\n",
      "Train accuracy:  0.8782333333333333\n",
      "Test accuracy:  0.8667\n",
      "Train loss 0.3430012858470281\n",
      "Test loss 0.3787118444442749\n",
      "Train accuracy:  0.8799833333333333\n",
      "Test accuracy:  0.8713\n"
     ]
    }
   ],
   "source": [
    "epochs = 30\n",
    "optimizer = optim.Adam(model.parameters(),lr = 0.003)\n",
    "criterion = nn.NLLLoss(reduction = 'sum')\n",
    "training_loss, testing_loss = [],[]\n",
    "\n",
    "for i in range(epochs):\n",
    "    total_train_loss = 0\n",
    "    train_correct = 0\n",
    "    for images,labels in trainloader:\n",
    "        \n",
    "        outputs = model(images)\n",
    "        ps = torch.exp(outputs)\n",
    "        \n",
    "        optimizer.zero_grad()\n",
    "        \n",
    "        loss = criterion(outputs,labels)\n",
    "        loss.backward()\n",
    "        \n",
    "        optimizer.step()\n",
    "        total_train_loss += loss.item()\n",
    "        \n",
    "        top_p, top_class = ps.topk(1, dim = 1)\n",
    "        match = top_class == labels.view(*top_class.shape)\n",
    "\n",
    "        train_correct += match.sum().item()\n",
    "                \n",
    "    else:     \n",
    "        \n",
    "        # Figure out the testing loss and accuracy\n",
    "        \n",
    "        total_test_loss = 0\n",
    "        test_correct = 0\n",
    "        \n",
    "        \n",
    "        \n",
    "        with torch.no_grad():\n",
    "            model.eval()\n",
    "            \n",
    "            for images, labels in testloader:\n",
    "                outputs = model(images)\n",
    "                ps = torch.exp(outputs)\n",
    "                \n",
    "                loss = criterion(outputs,labels)\n",
    "                total_test_loss += loss.item()\n",
    "                \n",
    "                top_p, top_class = ps.topk(1, dim = 1)\n",
    "                equals = top_class == labels.view(*top_class.shape)\n",
    "\n",
    "                test_correct += equals.sum().item()\n",
    "    \n",
    "    # Set the model back into train mode by diabling dropouts\n",
    "    model.train()\n",
    "                \n",
    "    tr_loss = total_train_loss/len(trainloader.dataset)\n",
    "    ts_loss = total_test_loss/len(testloader.dataset)\n",
    "            \n",
    "    training_loss.append(tr_loss)\n",
    "    testing_loss.append(ts_loss)\n",
    "    \n",
    "    print('Train loss', tr_loss)\n",
    "    print('Test loss',ts_loss)\n",
    "    \n",
    "    print('Train accuracy: ',train_correct/len(trainloader.dataset))\n",
    "    print('Test accuracy: ',test_correct/len(testloader.dataset))\n",
    "        "
   ]
  },
  {
   "cell_type": "code",
   "execution_count": 33,
   "id": "1bcf00a9",
   "metadata": {},
   "outputs": [
    {
     "data": {
      "text/plain": [
       "<matplotlib.legend.Legend at 0x1cefe70a880>"
      ]
     },
     "execution_count": 33,
     "metadata": {},
     "output_type": "execute_result"
    },
    {
     "data": {
      "image/png": "[encoded data removed]",
      "text/plain": [
       "<Figure size 432x288 with 1 Axes>"
      ]
     },
     "metadata": {
      "image/png": {
       "height": 248,
       "width": 386
      },
      "needs_background": "light"
     },
     "output_type": "display_data"
    }
   ],
   "source": [
    "plt.plot(training_loss, label = 'training_loss')\n",
    "plt.plot(testing_loss, label = 'testing_loss')\n",
    "plt.legend(frameon = False)"
   ]
  },
  {
   "cell_type": "code",
   "execution_count": 34,
   "id": "58b5f710",
   "metadata": {},
   "outputs": [],
   "source": [
    "## We can see that, now, with the dropout included, the training and testing\n",
    "#  losses are not so divergent, which means that the overfitting problem\n",
    "#  has been addressed to an extent. "
   ]
  },
  {
   "cell_type": "code",
   "execution_count": 35,
   "id": "91935bef",
   "metadata": {},
   "outputs": [],
   "source": [
    "# Currently, accuracies of about 90% have been obtained, but, clearly, the losses\n",
    "# are still decraesing, which means that running the process for more and more\n",
    "# epochs will further improve accuracy."
   ]
  },
  {
   "cell_type": "code",
   "execution_count": null,
   "id": "636dfbe7",
   "metadata": {},
   "outputs": [],
   "source": []
  }
 ],
 "metadata": {
  "kernelspec": {
   "display_name": "Python 3",
   "language": "python",
   "name": "python3"
  },
  "language_info": {
   "codemirror_mode": {
    "name": "ipython",
    "version": 3
   },
   "file_extension": ".py",
   "mimetype": "text/x-python",
   "name": "python",
   "nbconvert_exporter": "python",
   "pygments_lexer": "ipython3",
   "version": "3.8.8"
  }
 },
 "nbformat": 4,
 "nbformat_minor": 5
}
